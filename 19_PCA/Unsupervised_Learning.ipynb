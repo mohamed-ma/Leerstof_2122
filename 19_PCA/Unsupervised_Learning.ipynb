{
 "cells": [
  {
   "cell_type": "markdown",
   "id": "3e2c9deb",
   "metadata": {},
   "source": [
    "# Unsupervised learning\n",
    "\n",
    "Zorg ervoor dat deze cellen vanboven naar beneden in het document uitgevoerd kunnen worden (Cell > Run All).\n",
    "Verwijder ook de output voor het indienen om de bestandsgrootte te beperken (Cell > All Output > Clear). \n",
    "\n",
    "Vergeet ook niet te beantwoorden op de vragen over je oplossingen!"
   ]
  },
  {
   "cell_type": "markdown",
   "id": "4d23c706",
   "metadata": {},
   "source": [
    "## Opgave \n",
    "\n",
    "De oefeningen in deze notebook focussen op de unsupervised learning technieken om clustering en dimensionality reduction uit te voeren.\n",
    "Hiervoor wordt gebruik gemaakt van [deze dataset](https://www.kaggle.com/nipunarora8/age-gender-and-ethnicity-face-data-csv) die een reeks beelden van mensen met verschillend geslacht en ethniciteit bevat.\n",
    "Voor elk beeld in deze dataset zijn drie labels toegevoegd, namelijk leeftijd, geslacht en ethniciteit.\n",
    "\n",
    "Importeer alle benodigde packages hieronder en download deze dataset in de cell hieronder.\n",
    "Merk op dat voor het inladen van de images zowel de os package en de cv2 package nodig zijn\n",
    "Indien het cv2 package nog niet geinstalleerd is, kan het geinstalleerd worden met onderstaand commando:"
   ]
  },
  {
   "cell_type": "code",
   "execution_count": null,
   "id": "a3d088dd",
   "metadata": {},
   "outputs": [],
   "source": [
    "!pip install opencv-python"
   ]
  },
  {
   "cell_type": "code",
   "execution_count": null,
   "id": "09ff4bbb",
   "metadata": {},
   "outputs": [],
   "source": [
    "# alle imports hier\n",
    "import os\n",
    "import opendatasets as od\n",
    "import pandas as pd\n",
    "import cv2\n",
    "import numpy as np\n",
    "import matplotlib.pyplot as plt"
   ]
  },
  {
   "cell_type": "code",
   "execution_count": null,
   "id": "637c6650",
   "metadata": {},
   "outputs": [],
   "source": [
    "# download\n",
    "od.download(\"https://www.kaggle.com/nipunarora8/age-gender-and-ethnicity-face-data-csv\")"
   ]
  },
  {
   "cell_type": "markdown",
   "id": "96c437c9",
   "metadata": {},
   "source": [
    "Laad nu de dataset in in een dataframe en toon de kolommen die aanwezig zijn."
   ]
  },
  {
   "cell_type": "code",
   "execution_count": null,
   "id": "1c92805e",
   "metadata": {},
   "outputs": [],
   "source": [
    "# inladen dataset\n",
    "df = pd.read_csv(\"age-gender-and-ethnicity-face-data-csv/age_gender.csv\")"
   ]
  },
  {
   "cell_type": "markdown",
   "id": "3da0afa1",
   "metadata": {},
   "source": [
    "Merk op dat de kolom dat de pixels bevat het \"object\" datatype is. \n",
    "Dit komt omdat het een string bevat met een reeks getallen in. Schrijf hier nu een functie die de tekst van 1 figuur omzet naar een numpy matrix. \n",
    "De figuren in deze dataset zijn vierkantig dus de breedte en lengte is gelijk aan de vierkantswortel van het aantal pixels.\n",
    "Ook is de figuur enkel grijswaarden dus kan je rechtstreeks de pixelwaarde gebruiken en heb je geen RGB waarde.\n",
    "Daarnaast is het ook belangrijk voor het correct tekenen van de figuren om ervoor te zorgen dat het type van de numpy array integers bevat in plaats van strings."
   ]
  },
  {
   "cell_type": "code",
   "execution_count": null,
   "id": "04a086ea",
   "metadata": {},
   "outputs": [],
   "source": [
    "# string to matrix function "
   ]
  },
  {
   "cell_type": "markdown",
   "id": "861c5cf8",
   "metadata": {},
   "source": [
    "Het is belangrijk op te merken dat de betekenis van de labels niet altijd eenduidig bepaald is. Toon daarom nu eerst een 5-tal willekeurige beelden met gender klasse 0 en 1. Wat is nu de betekenis van deze labels? Stelt label 0 een man of vrouw voor?"
   ]
  },
  {
   "cell_type": "code",
   "execution_count": null,
   "id": "fb771c1c",
   "metadata": {},
   "outputs": [],
   "source": [
    "# show sample images for gender 0 en gender 1"
   ]
  },
  {
   "cell_type": "markdown",
   "id": "e15b8a60",
   "metadata": {},
   "source": [
    "Doe dit ook voor de verschillende labels van etniciteit.\n",
    "Welke ethniciteit komt overeen met welk label?\n",
    "Indien het niet altijd snel duidelijk is, kan je het herhaaldelijk uitvoeren met andere figuren om een beter beeld te krijgen."
   ]
  },
  {
   "cell_type": "code",
   "execution_count": null,
   "id": "48c4edbb",
   "metadata": {},
   "outputs": [],
   "source": [
    "# show sample images for different ethnicities"
   ]
  },
  {
   "cell_type": "markdown",
   "id": "72d9186c",
   "metadata": {},
   "source": [
    "## Clustering\n",
    "\n",
    "Voor we kunnen overgaan moet pixel kolom data nog omgezet worden bruikbare data.\n",
    "Er zijn verscheidene mogelijkheden om dit te bereiken. Je kan bijvoorbeeld werken met de values van de pixel kolom.\n",
    "Nadat deze dan gesplits worden kan je die omzetten naar een numpy matrix met een figuur per rij en de kolommen de verschillende pixelwaarden."
   ]
  },
  {
   "cell_type": "code",
   "execution_count": null,
   "id": "bbb38d14",
   "metadata": {},
   "outputs": [],
   "source": [
    "# convert pixel column to list of features"
   ]
  },
  {
   "cell_type": "markdown",
   "id": "83b100a1",
   "metadata": {},
   "source": [
    "Nu dat de data ingeladen is, voer clustering uit door middel van K-Means clustering. \n",
    "Gebruik de Elbow methode om het optimale aantal clusters te bepalen.\n",
    "Welk aantal clusters kies je? Kan je dit vergelijken met het aantal labels voor gender of ethniciteit?"
   ]
  },
  {
   "cell_type": "code",
   "execution_count": null,
   "id": "374415bf",
   "metadata": {},
   "outputs": [],
   "source": [
    "# clustering for range of K-values"
   ]
  },
  {
   "cell_type": "code",
   "execution_count": null,
   "id": "48389568",
   "metadata": {},
   "outputs": [],
   "source": [
    "# show elbow plot for determining best value of K"
   ]
  },
  {
   "cell_type": "markdown",
   "id": "e3fec7f7",
   "metadata": {},
   "source": [
    "**Antwoord:**\n",
    "\n",
    "Train nu een clustering model met het K-Means algoritme voor K=5. \n",
    "Print een sample van 5 foto's in je subset voor elk van deze K's.\n",
    "Indien je hierboven gewerkt hebt met numpy matrices, kan je gebruik maken van randint om willekeurige indices te selecteren.\n",
    "Let ook op dat om de images goed te kunnen tonen, de vorm moet aangepast worden naar 48 bij 48 pixels."
   ]
  },
  {
   "cell_type": "code",
   "execution_count": null,
   "id": "1cb2af56",
   "metadata": {},
   "outputs": [],
   "source": []
  },
  {
   "cell_type": "code",
   "execution_count": null,
   "id": "34b56613",
   "metadata": {},
   "outputs": [],
   "source": []
  },
  {
   "cell_type": "markdown",
   "id": "59dd00de",
   "metadata": {},
   "source": [
    "**Kun je zien welke factoren gemeenschappelijk zijn in de clusters/waarop er vooral geclusterd wordt?\n",
    "Het kan zijn dat dit niet eenvoudig te zien is maar doe een goede gok.**"
   ]
  },
  {
   "cell_type": "markdown",
   "id": "3ec56251",
   "metadata": {},
   "source": [
    "**Antwoord:**"
   ]
  },
  {
   "cell_type": "markdown",
   "id": "db8b8b3a",
   "metadata": {},
   "source": [
    "## PCA\n",
    "\n",
    "De figuren in de dataset die gebruikt is voor clustering waren 48 pixels bij 48 en waren in grijswaarden maar toch leverde dit reeds 2304 features op.\n",
    "Het is dus duidelijk dat bij computer visie het aantal features heel snel kan oplopen.\n",
    "In deze sectie gaan we op zoek naar andere manieren om de beschikbare data voor te stellen om het aantal features te kunnen reduceren maar toch zo veel mogelijke informatie te behouden.\n",
    "Om dit te bereiken gaan we gebruik maken van de Principal Component Analyse of PCA.\n",
    "\n",
    "De eerste stap is om te bekijken hoeveel components er nodig zijn om nog een redelijk deel van de beschikbare informatie over te houden.\n",
    "Toon dit aan de hand van een plot dat de variantie toont in functie van de principal components."
   ]
  },
  {
   "cell_type": "code",
   "execution_count": null,
   "id": "2e20a313",
   "metadata": {},
   "outputs": [],
   "source": []
  },
  {
   "cell_type": "markdown",
   "id": "178af835",
   "metadata": {},
   "source": [
    "Hoeveel components zijn er nodig om ongeveer 80% en 90% van de informatie over te houden?\n",
    "\n",
    "**Antwoord:** 20-60"
   ]
  },
  {
   "cell_type": "markdown",
   "id": "4ba8b5aa",
   "metadata": {},
   "source": [
    "Teken nu de volgende twee figuren naast elkaar:\n",
    "* Een willekeurige figuur uit de dataset\n",
    "* Het resultaat na PCA met voldoende componenten om minstens 90% van de variantie te behouden. (Je kan hier niet rechtstreeks het resultaat van de transform functie() voor gebruiken omdat dit een rij is ipv een matrix)."
   ]
  },
  {
   "cell_type": "code",
   "execution_count": null,
   "id": "5d3b77dc",
   "metadata": {},
   "outputs": [],
   "source": []
  },
  {
   "cell_type": "code",
   "execution_count": null,
   "id": "430f1b46",
   "metadata": {},
   "outputs": [],
   "source": []
  },
  {
   "cell_type": "markdown",
   "id": "04f7968c",
   "metadata": {},
   "source": [
    "In deze resultaten zou het origineel nog steeds zichtbaar moeten zijn maar het zou wel waziger moeten zijn.\n",
    "Indien er gewenst is om 90% van de variantie te behouden, met hoeveel percent kan de dataset dan gereduceerd worden?\n",
    "\n",
    "**Antwoord:**"
   ]
  },
  {
   "cell_type": "code",
   "execution_count": null,
   "id": "cead4971",
   "metadata": {},
   "outputs": [],
   "source": []
  }
 ],
 "metadata": {
  "kernelspec": {
   "display_name": "Python 3",
   "language": "python",
   "name": "python3"
  },
  "language_info": {
   "codemirror_mode": {
    "name": "ipython",
    "version": 3
   },
   "file_extension": ".py",
   "mimetype": "text/x-python",
   "name": "python",
   "nbconvert_exporter": "python",
   "pygments_lexer": "ipython3",
   "version": "3.8.8"
  }
 },
 "nbformat": 4,
 "nbformat_minor": 5
}
