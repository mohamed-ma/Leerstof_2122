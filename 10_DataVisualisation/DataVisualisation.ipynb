{
 "cells": [
  {
   "cell_type": "markdown",
   "id": "76100ba0",
   "metadata": {},
   "source": [
    "# Data Visualisation\n",
    "\n",
    "Heel veel informatie over hoe je visualisatie kan doen met behulp van matplotlib kan je vinden op deze website: https://www.python-graph-gallery.com/.\n",
    "Specifiek voor pandas vind je ook op [deze](https://pandas.pydata.org/pandas-docs/stable/visualization.html) pagina veel informatie."
   ]
  },
  {
   "cell_type": "code",
   "execution_count": 1,
   "id": "56a2c1d1",
   "metadata": {},
   "outputs": [],
   "source": [
    "# imports\n",
    "import pandas as pd\n",
    "import numpy as np\n",
    "import matplotlib.pyplot as plt\n",
    "import seaborn as sns"
   ]
  },
  {
   "cell_type": "markdown",
   "id": "a4fb76ba",
   "metadata": {},
   "source": [
    "## Relative to reference point\n",
    "\n",
    "### Bar diverging"
   ]
  },
  {
   "cell_type": "code",
   "execution_count": 21,
   "id": "6e2e06ac",
   "metadata": {},
   "outputs": [
    {
     "data": {
      "image/png": "[encoded data removed]",
      "text/plain": [
       "<Figure size 1008x720 with 1 Axes>"
      ]
     },
     "metadata": {
      "needs_background": "light"
     },
     "output_type": "display_data"
    }
   ],
   "source": [
    "np.random.seed(0)\n",
    "df = pd.DataFrame({\"data\": np.random.random(size=20) * 10 -5})\n",
    "df.sort_values(\"data\", inplace=True, ascending= False)\n",
    "df.reset_index(inplace=True)\n",
    "\n",
    "df\n",
    "\n",
    "plt.figure(figsize=(14,10))\n",
    "\n",
    "colors = ['red' if x < 0 else 'green' for x in df.data]\n",
    "\n",
    "\n",
    "plt.hlines(y=df.index, xmin=0, xmax=df.data, color=colors, linewidth=10, alpha=0.4)\n",
    "\n",
    "plt.title(\"Bar diverging\", fontdict={\"size\": 30})\n",
    "plt.gca().set_xlabel(\"X-axis\", fontsize=14)\n",
    "plt.gca().set_ylabel(\"Y-axis\", fontsize=14)\n",
    "\n",
    "# streepjes op de assen corrigeren (komma-getallen geen steek houden)\n",
    "# 2 keer df.index omdat de eerste keer de waarde waar de tick is en de tweede keer het label\n",
    "# 2de df.index zijn de count() van df.index rijen\n",
    "plt.yticks(df.index, df.index, fontsize=10)\n",
    "\n",
    "# waarde van x axis verwijderen\n",
    "#plt.xticks([])\n",
    "\n",
    "#grid met lijnen, zonder transparantie\n",
    "plt.grid(linestyle=\"--\", alpha=0.4)\n",
    "\n",
    "# de bovenste en rechtse border weg doen\n",
    "plt.gca().spines[\"top\"].set_visible(False)\n",
    "plt.gca().spines[\"right\"].set_visible(False)\n",
    "\n",
    "# de y-as waardes \n",
    "plt.gca().set_ylim(-0.5, 10.5)\n",
    "plt.savefig(\"test.png\")"
   ]
  },
  {
   "cell_type": "markdown",
   "id": "4f7e4244",
   "metadata": {},
   "source": [
    "### Bar diverging stacked"
   ]
  },
  {
   "cell_type": "code",
   "execution_count": null,
   "id": "f94b7c13",
   "metadata": {},
   "outputs": [],
   "source": []
  },
  {
   "cell_type": "markdown",
   "id": "5c6711a9",
   "metadata": {},
   "source": [
    "### Line Surplus Deficit Filled"
   ]
  },
  {
   "cell_type": "code",
   "execution_count": null,
   "id": "79111f46",
   "metadata": {},
   "outputs": [],
   "source": []
  },
  {
   "cell_type": "markdown",
   "id": "2f51b6a2",
   "metadata": {},
   "source": [
    "## Verband tussen features\n",
    "\n",
    "### Scatter plot\n",
    "\n",
    "Reeds veel gedaan dus ga ik hier niet opnieuw tonen\n",
    "\n",
    "### Line Column Plot"
   ]
  },
  {
   "cell_type": "code",
   "execution_count": null,
   "id": "97fce81e",
   "metadata": {},
   "outputs": [],
   "source": []
  },
  {
   "cell_type": "markdown",
   "id": "dc0dfa1e",
   "metadata": {},
   "source": [
    "### Connected scatter plot"
   ]
  },
  {
   "cell_type": "code",
   "execution_count": null,
   "id": "aba31c91",
   "metadata": {},
   "outputs": [],
   "source": []
  },
  {
   "cell_type": "markdown",
   "id": "41ed60c4",
   "metadata": {},
   "source": [
    "### Bubble plot"
   ]
  },
  {
   "cell_type": "code",
   "execution_count": null,
   "id": "ca654836",
   "metadata": {},
   "outputs": [],
   "source": []
  },
  {
   "cell_type": "markdown",
   "id": "21f02966",
   "metadata": {},
   "source": [
    "### XY - heatmap\n",
    "\n",
    "Dit hebben we ook reeds gedaan bij de correlatie matrices, die ga ik nu niet overdoen. Binnen maptlotlib kan dit met matshow. Seaborn heeft een alternatief dat [heatmap](https://seaborn.pydata.org/generated/seaborn.heatmap.html) noemt.\n",
    "\n",
    "## Plots voor verbanden met de tijd\n",
    "\n",
    "### (Stacked) Area plot"
   ]
  },
  {
   "cell_type": "code",
   "execution_count": null,
   "id": "3a595530",
   "metadata": {},
   "outputs": [],
   "source": []
  },
  {
   "cell_type": "markdown",
   "id": "90d78a3f",
   "metadata": {},
   "source": [
    "### Fan plot"
   ]
  },
  {
   "cell_type": "code",
   "execution_count": null,
   "id": "0c42425d",
   "metadata": {},
   "outputs": [],
   "source": []
  },
  {
   "cell_type": "markdown",
   "id": "fe75cb4f",
   "metadata": {},
   "source": [
    "### Circles Timeline Plot\n",
    "\n",
    "Dit kan gegenereerd worden door middel van een scatter plot waar de x-as de tijd is (of een index), de y waarde is een constante (bijvoorbeeld 0) en de bubble size is dan de bijhorende waarde\n",
    "\n",
    "Probeer dit zelf eens uit."
   ]
  },
  {
   "cell_type": "code",
   "execution_count": null,
   "id": "0e42b99c",
   "metadata": {},
   "outputs": [],
   "source": []
  },
  {
   "cell_type": "markdown",
   "id": "dba9725e",
   "metadata": {},
   "source": [
    "### Seismogram plot\n",
    "\n",
    "Dit kan opnieuw gedaan worden op basis van de vorige voorbeelden. Zoals bij het Connected scatter plot er twee zaken geplot zijn op 1 figuur met dezelfde y-as moeten er hier twee lijn plots zijn. De ene bevat de exacte waarden en de andere een lijn dat de toppen van de golven verbindt. \n",
    "\n",
    "Het moeilijke is om de lokale maxima/minima te zoeken die verbonden moet worden. Dit kan eventueel zelf gedaan worden of je kan gebruik maken van een package die dit doet voor jou, bijvoorbeeld: https://docs.scipy.org/doc/scipy/reference/generated/scipy.signal.argrelextrema.html of https://docs.scipy.org/doc/scipy/reference/generated/scipy.signal.find_peaks.html"
   ]
  },
  {
   "cell_type": "code",
   "execution_count": null,
   "id": "92b0d622",
   "metadata": {},
   "outputs": [],
   "source": []
  },
  {
   "cell_type": "markdown",
   "id": "0ecd2a83",
   "metadata": {},
   "source": [
    "## Sorteren / Volgorde van data\n",
    "\n",
    "### Lollipop chart\n",
    "\n",
    "https://www.python-graph-gallery.com/lollipop-plot/"
   ]
  },
  {
   "cell_type": "code",
   "execution_count": null,
   "id": "21f962c7",
   "metadata": {},
   "outputs": [],
   "source": []
  },
  {
   "cell_type": "markdown",
   "id": "4f0bfad3",
   "metadata": {},
   "source": [
    "### Bump plot\n",
    "\n",
    "Dit kan gedaan worden als connected scatter plot (1 per lijn). Je moet dan wel nog extra aandacht besteden aan de y-ticks die de startvolgorde van de verschillende lijnen bepaalt. Het maken van aparte ticks links en rechts voor het veranderen van de volgorde kan door gebruik te maken van de twinx functie (zie de line-column plot)."
   ]
  },
  {
   "cell_type": "code",
   "execution_count": null,
   "id": "52d5146d",
   "metadata": {},
   "outputs": [],
   "source": []
  }
 ],
 "metadata": {
  "kernelspec": {
   "display_name": "Python 3",
   "language": "python",
   "name": "python3"
  },
  "language_info": {
   "codemirror_mode": {
    "name": "ipython",
    "version": 3
   },
   "file_extension": ".py",
   "mimetype": "text/x-python",
   "name": "python",
   "nbconvert_exporter": "python",
   "pygments_lexer": "ipython3",
   "version": "3.8.8"
  }
 },
 "nbformat": 4,
 "nbformat_minor": 5
}
