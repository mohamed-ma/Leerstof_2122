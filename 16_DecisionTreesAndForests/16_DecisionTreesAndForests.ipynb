{
 "cells": [
  {
   "cell_type": "markdown",
   "id": "bf9acf77",
   "metadata": {},
   "source": [
    "# Decision Trees\n",
    "\n",
    "De **supervised learning** techniek Decision Trees voor **classificatie** is iets dat je zelf al goed kent.\n",
    "Je gebruikt ze namelijk zelf onbewust wanneer je een voorwerp moet identificeren.\n",
    "Waar let je bijvoorbeeld op om het onderstaande stuk fruit te identificeren?\n",
    "\n",
    "![apple](images\\apple.png)\n",
    "\n",
    "Hier zou je bijvoorbeeld op de volgende karakteristieken of features gelet kunnen hebben:\n",
    "* Hoe rood is het stuk fruit?\n",
    "* Hoe rond is het stuk fruit\n",
    "* Hoeveel weegt het stuk fruit?\n",
    "\n",
    "Mentaal bouw je dus onbewust een boom op en overloop je een reeks opties om te bepalen of het object waar je naar kijkt een appel is of niet.\n",
    "\n",
    "Dit is net hetgene dat er ook gebruikt bij het opbouwen van een decision tree.\n",
    "Een voorbeeld van de werking van deze classifier is als volgt:"
   ]
  },
  {
   "cell_type": "code",
   "execution_count": 12,
   "id": "07e18fa4",
   "metadata": {},
   "outputs": [],
   "source": [
    "# imports\n",
    "import matplotlib.pyplot as plt\n",
    "import pandas as pd\n",
    "import numpy as np\n",
    "\n",
    "# graphical\n",
    "import seaborn as sns\n",
    "sns.set_style(\"darkgrid\")\n",
    "\n",
    "from sklearn.model_selection import train_test_split\n",
    "import sklearn.datasets as datasets\n",
    "\n",
    "%matplotlib inline"
   ]
  },
  {
   "cell_type": "code",
   "execution_count": 14,
   "id": "a1fbd5dc",
   "metadata": {},
   "outputs": [
    {
     "data": {
      "text/plain": [
       "[<matplotlib.lines.Line2D at 0x1778de079a0>]"
      ]
     },
     "execution_count": 14,
     "metadata": {},
     "output_type": "execute_result"
    },
    {
     "data": {
      "image/png": "[encoded data removed]",
      "text/plain": [
       "<Figure size 432x288 with 1 Axes>"
      ]
     },
     "metadata": {
      "needs_background": "light"
     },
     "output_type": "display_data"
    }
   ],
   "source": [
    "# maakt de dataset\n",
    "X, y = datasets.make_classification(n_samples=20, n_features=2, n_informative=2, n_redundant=0, n_clusters_per_class=2, class_sep=0.3, random_state=123)\n",
    "\n",
    "sns.scatterplot(x=X[:,0], y=X[:, 1], hue=y)\n",
    "plt.plot([0.45, 0.45], [-1.5, 1.2], color=\"black\")\n",
    "plt.plot([-1.2, 0.45], [-0.5, -0.5], color=\"black\")\n",
    "plt.plot([-1.2, 0.45], [1.0, 1.0], color=\"black\")\n",
    "plt.plot([-1.2, 0.45], [0.1, 0.1], color=\"black\")\n",
    "plt.plot([-0.55, -0.55], [0.1, 1.0], color=\"black\")\n",
    "plt.plot([0, 0], [0.1, -0.5], color=\"black\")"
   ]
  },
  {
   "cell_type": "markdown",
   "id": "dd94da7f",
   "metadata": {},
   "source": [
    "Voor bovenstaande voorbeeld kan bijvoorbeeld deze boom opgebouwd worden die de classificatie doet:\n",
    "\n",
    "![boom](images\\boom.png)"
   ]
  },
  {
   "cell_type": "markdown",
   "id": "ebf61b18",
   "metadata": {},
   "source": [
    "## Bepalen scheidingslijnen\n",
    "\n",
    "Hierboven hebben we zelf de lijnen getrokken om het gebied in twee te verdelen.\n",
    "Nu rest er nog de vraag, hoe kiezen we de beste lijnen om deze verdeling te doen.\n",
    "Intuitief denk je dan aan de lijn die het grootste aantal observaties van dezelfde klasse afsplitst. \n",
    "Of de lijn die het minste fouten maakt.\n",
    "\n",
    "Deze intuitieve benadering komt sterk overeen met het berekenen van de entropie en deze proberen zo laag mogelijk te krijgen.\n",
    "Entropie is een maat voor de wanorde/chaos in een systeem en wordt gebruikt in een aantal wetenschappelijke disciplines zoals chemie en fysica maar ook in computerwetenschappen bij bijvoorbeeld encryptie en compressie. \n",
    "Hoe hoger de entropie in een bepaald systeem, hoe hoger de wanorde/chaos en bijvoorbeeld hoe beter de encryptie.\n",
    "De entropie van een classificatieprobleem kan als volgt bepaald worden:\n",
    "\n",
    "$H = \\sum\\limits_{i=1}^{N} p_i \\log_2(\\frac{1}{p_i}) = -\\sum\\limits_{i=1}^{N} p_i \\log_2(p_i)$\n",
    "\n",
    "waar $p_i$ het percentage observaties van klasse $i$ is in het gebied.\n",
    "\n",
    "De entropie van de beginsituatie in bovenstaand voorbeeld en na de eerste split kan berekend worden als volgt:"
   ]
  },
  {
   "cell_type": "code",
   "execution_count": 16,
   "id": "255eed78",
   "metadata": {},
   "outputs": [
    {
     "data": {
      "text/plain": [
       "[<matplotlib.lines.Line2D at 0x1778de93850>]"
      ]
     },
     "execution_count": 16,
     "metadata": {},
     "output_type": "execute_result"
    },
    {
     "data": {
      "image/png": "[encoded data removed]",
      "text/plain": [
       "<Figure size 432x288 with 1 Axes>"
      ]
     },
     "metadata": {
      "needs_background": "light"
     },
     "output_type": "display_data"
    }
   ],
   "source": [
    "x = np.arange(0.1,1,0.01)\n",
    "y = x * np.log2(x) + (1-x) * np.log2(1-x)\n",
    "plt.plot(x,-y)"
   ]
  },
  {
   "cell_type": "code",
   "execution_count": 18,
   "id": "16f7afa4",
   "metadata": {},
   "outputs": [
    {
     "name": "stdout",
     "output_type": "stream",
     "text": [
      "0.47368421052631576 0.5263157894736842 0.9980008838722996\n",
      "1e-07 1.0 2.3253496664211536e-06\n",
      "0.6923076923076923 0.3076923076923077 0.8904916402194913\n",
      "Information Gain =  0.3887163957169635\n"
     ]
    }
   ],
   "source": [
    "pBeginKlasse0 = 9/19 # blauwe punten\n",
    "pBeginKlasse1 = 10/19 # orange punten\n",
    "\n",
    "entropieBegin = - (pBeginKlasse0 * np.log2(pBeginKlasse0) + pBeginKlasse1 * np.log2(pBeginKlasse1))\n",
    "print(pBeginKlasse0, pBeginKlasse1, entropieBegin)\n",
    "# Dit geeft een zeer hoge entropie voor in het begin.\n",
    "\n",
    "pLinksKlasse0 = 9/13\n",
    "pLinksKlasse1 = 4/13\n",
    "pRechtsKlasse0 = 0.0000001 # Dit moet 0 zijn maar zou eindigen in min oneindig. (vandaar een minieme waarde)\n",
    "pRechtsKlasse1 = 6/6\n",
    "\n",
    "entropieRechts = - (pRechtsKlasse0 * np.log2(pRechtsKlasse0) + pRechtsKlasse1 * np.log2(pRechtsKlasse1))\n",
    "print(pRechtsKlasse0, pRechtsKlasse1, entropieRechts)\n",
    "entropieLinks = - (pLinksKlasse0 * np.log2(pLinksKlasse0) + pLinksKlasse1 * np.log2(pLinksKlasse1))\n",
    "print(pLinksKlasse0, pLinksKlasse1, entropieLinks)\n",
    "informationGain = entropieBegin - 6/19 * entropieRechts - 13/19 * entropieLinks\n",
    "print(\"Information Gain = \", informationGain)"
   ]
  },
  {
   "cell_type": "markdown",
   "id": "92c867e0",
   "metadata": {},
   "source": [
    "Na het berekenen van de gewenste information gain voor alle splits die je kan doen, moet je de beste kiezen. \n",
    "Hiervoor kiezen we dan degene die de grootste hoeveelheid informatie toevoegt.\n",
    "\n",
    "Er is echter een groot nadeel aan het gebruik van de entropie.\n",
    "Het veelvuldig berekenen van de logaritmes voor alle mogelijke verdeling is zeer rekenintensief.\n",
    "Daarom is het beter om gebruik te maken van een alternatieve methode om de scheidingslijn te bepalen.\n",
    "Deze methode noemt de Gini impurity methode en is default gekozen bij de Decision Tree algoritmes van sklearn.\n",
    "De Gini impurity focust meer op de zuiverheid van de verdeling en minder op de entropie en kan berekend worden als volgt:\n",
    "\n",
    "$G = 1 - \\sum\\limits_{i=1}^{N}p_i^2$\n",
    "\n",
    "Om nu de beste verdelingslijn te zoeken neem je de lijn die leidt tot de kleinste Gini impurity.\n",
    "Let er wel op dat je het gewogen gemiddelde neemt van de twee delen om de Gini impurity waarden te vergelijken.\n",
    "De berekening van de Gini Impurity voor de eerste verdeling van bovenstaande voorbeeld gaat als volgt:"
   ]
  },
  {
   "cell_type": "code",
   "execution_count": 19,
   "id": "e318dfbe",
   "metadata": {},
   "outputs": [
    {
     "name": "stdout",
     "output_type": "stream",
     "text": [
      "0.29149797570849884\n"
     ]
    }
   ],
   "source": [
    "GLinks = 1 - pLinksKlasse0**2 - pLinksKlasse1**2\n",
    "GRechts = 1 - pRechtsKlasse0**2 - pRechtsKlasse1**2\n",
    "G = 13/19*GLinks + 6/19*GRechts\n",
    "print(G)"
   ]
  },
  {
   "cell_type": "markdown",
   "id": "af1cdc4f",
   "metadata": {},
   "source": [
    "Net zoals bij de voorgaande machine learning technieken hebben ook Decision Trees hun voor en nadelen.\n",
    "De nadelen zijn:\n",
    "* Grote neiging tot overfitting\n",
    "* Gevoelig aan ruis\n",
    "* Boom kan zeer groot worden\n",
    "\n",
    "Het vordeel van een decision tree is dat het een zeer snelle en eenvoudige techniek is die snel een resultaat kan leveren maar het belangrijkste voordeel waardoor het nog steeds vaak gebruikt wordt is dat je op het resulterende model kan redeneren.\n",
    "Dat wil zeggen dat je kan kijken welke features de grootste impact hebben op het resultaat, waar de verdelingslijnen geplaatst worden en waarom. \n",
    "Deze redenering en analyse kan dan gebruikt worden om je processen eventueel te verbeteren. \n",
    "\n",
    "Hoewel Decision Trees gevoelig zijn aan overfitting zijn er een groot aantal manieren om regularisatie toe te voegen aan het algoritme.\n",
    "De belangrijkste hyperparameters om dit te doen zijn:\n",
    "* max_depth: Beperk de maximale diepte van de boom\n",
    "* min_samples_split: Laat geen verdelingen toe van gebieden met minder observaties dan deze waarde. De klasse van het gebied komt dan overeen met de meerderheid van de observaties\n",
    "* min_samples_leaf: Minimum aantal observaties als blad van de boom\n",
    "\n",
    "Train nu een [decision tree classifier](https://scikit-learn.org/stable/modules/generated/sklearn.tree.DecisionTreeClassifier.html) op de borstkanker dataset van sklearn."
   ]
  },
  {
   "cell_type": "code",
   "execution_count": 34,
   "id": "cde9216d",
   "metadata": {},
   "outputs": [
    {
     "data": {
      "text/html": [
       "<div>\n",
       "<style scoped>\n",
       "    .dataframe tbody tr th:only-of-type {\n",
       "        vertical-align: middle;\n",
       "    }\n",
       "\n",
       "    .dataframe tbody tr th {\n",
       "        vertical-align: top;\n",
       "    }\n",
       "\n",
       "    .dataframe thead th {\n",
       "        text-align: right;\n",
       "    }\n",
       "</style>\n",
       "<table border=\"1\" class=\"dataframe\">\n",
       "  <thead>\n",
       "    <tr style=\"text-align: right;\">\n",
       "      <th></th>\n",
       "      <th>mean radius</th>\n",
       "      <th>mean texture</th>\n",
       "      <th>mean perimeter</th>\n",
       "      <th>mean area</th>\n",
       "      <th>mean smoothness</th>\n",
       "      <th>mean compactness</th>\n",
       "      <th>mean concavity</th>\n",
       "      <th>mean concave points</th>\n",
       "      <th>mean symmetry</th>\n",
       "      <th>mean fractal dimension</th>\n",
       "      <th>...</th>\n",
       "      <th>worst texture</th>\n",
       "      <th>worst perimeter</th>\n",
       "      <th>worst area</th>\n",
       "      <th>worst smoothness</th>\n",
       "      <th>worst compactness</th>\n",
       "      <th>worst concavity</th>\n",
       "      <th>worst concave points</th>\n",
       "      <th>worst symmetry</th>\n",
       "      <th>worst fractal dimension</th>\n",
       "      <th>target</th>\n",
       "    </tr>\n",
       "  </thead>\n",
       "  <tbody>\n",
       "    <tr>\n",
       "      <th>0</th>\n",
       "      <td>17.99</td>\n",
       "      <td>10.38</td>\n",
       "      <td>122.80</td>\n",
       "      <td>1001.0</td>\n",
       "      <td>0.11840</td>\n",
       "      <td>0.27760</td>\n",
       "      <td>0.3001</td>\n",
       "      <td>0.14710</td>\n",
       "      <td>0.2419</td>\n",
       "      <td>0.07871</td>\n",
       "      <td>...</td>\n",
       "      <td>17.33</td>\n",
       "      <td>184.60</td>\n",
       "      <td>2019.0</td>\n",
       "      <td>0.1622</td>\n",
       "      <td>0.6656</td>\n",
       "      <td>0.7119</td>\n",
       "      <td>0.2654</td>\n",
       "      <td>0.4601</td>\n",
       "      <td>0.11890</td>\n",
       "      <td>0</td>\n",
       "    </tr>\n",
       "    <tr>\n",
       "      <th>1</th>\n",
       "      <td>20.57</td>\n",
       "      <td>17.77</td>\n",
       "      <td>132.90</td>\n",
       "      <td>1326.0</td>\n",
       "      <td>0.08474</td>\n",
       "      <td>0.07864</td>\n",
       "      <td>0.0869</td>\n",
       "      <td>0.07017</td>\n",
       "      <td>0.1812</td>\n",
       "      <td>0.05667</td>\n",
       "      <td>...</td>\n",
       "      <td>23.41</td>\n",
       "      <td>158.80</td>\n",
       "      <td>1956.0</td>\n",
       "      <td>0.1238</td>\n",
       "      <td>0.1866</td>\n",
       "      <td>0.2416</td>\n",
       "      <td>0.1860</td>\n",
       "      <td>0.2750</td>\n",
       "      <td>0.08902</td>\n",
       "      <td>0</td>\n",
       "    </tr>\n",
       "    <tr>\n",
       "      <th>2</th>\n",
       "      <td>19.69</td>\n",
       "      <td>21.25</td>\n",
       "      <td>130.00</td>\n",
       "      <td>1203.0</td>\n",
       "      <td>0.10960</td>\n",
       "      <td>0.15990</td>\n",
       "      <td>0.1974</td>\n",
       "      <td>0.12790</td>\n",
       "      <td>0.2069</td>\n",
       "      <td>0.05999</td>\n",
       "      <td>...</td>\n",
       "      <td>25.53</td>\n",
       "      <td>152.50</td>\n",
       "      <td>1709.0</td>\n",
       "      <td>0.1444</td>\n",
       "      <td>0.4245</td>\n",
       "      <td>0.4504</td>\n",
       "      <td>0.2430</td>\n",
       "      <td>0.3613</td>\n",
       "      <td>0.08758</td>\n",
       "      <td>0</td>\n",
       "    </tr>\n",
       "    <tr>\n",
       "      <th>3</th>\n",
       "      <td>11.42</td>\n",
       "      <td>20.38</td>\n",
       "      <td>77.58</td>\n",
       "      <td>386.1</td>\n",
       "      <td>0.14250</td>\n",
       "      <td>0.28390</td>\n",
       "      <td>0.2414</td>\n",
       "      <td>0.10520</td>\n",
       "      <td>0.2597</td>\n",
       "      <td>0.09744</td>\n",
       "      <td>...</td>\n",
       "      <td>26.50</td>\n",
       "      <td>98.87</td>\n",
       "      <td>567.7</td>\n",
       "      <td>0.2098</td>\n",
       "      <td>0.8663</td>\n",
       "      <td>0.6869</td>\n",
       "      <td>0.2575</td>\n",
       "      <td>0.6638</td>\n",
       "      <td>0.17300</td>\n",
       "      <td>0</td>\n",
       "    </tr>\n",
       "    <tr>\n",
       "      <th>4</th>\n",
       "      <td>20.29</td>\n",
       "      <td>14.34</td>\n",
       "      <td>135.10</td>\n",
       "      <td>1297.0</td>\n",
       "      <td>0.10030</td>\n",
       "      <td>0.13280</td>\n",
       "      <td>0.1980</td>\n",
       "      <td>0.10430</td>\n",
       "      <td>0.1809</td>\n",
       "      <td>0.05883</td>\n",
       "      <td>...</td>\n",
       "      <td>16.67</td>\n",
       "      <td>152.20</td>\n",
       "      <td>1575.0</td>\n",
       "      <td>0.1374</td>\n",
       "      <td>0.2050</td>\n",
       "      <td>0.4000</td>\n",
       "      <td>0.1625</td>\n",
       "      <td>0.2364</td>\n",
       "      <td>0.07678</td>\n",
       "      <td>0</td>\n",
       "    </tr>\n",
       "  </tbody>\n",
       "</table>\n",
       "<p>5 rows × 31 columns</p>\n",
       "</div>"
      ],
      "text/plain": [
       "   mean radius  mean texture  mean perimeter  mean area  mean smoothness  \\\n",
       "0        17.99         10.38          122.80     1001.0          0.11840   \n",
       "1        20.57         17.77          132.90     1326.0          0.08474   \n",
       "2        19.69         21.25          130.00     1203.0          0.10960   \n",
       "3        11.42         20.38           77.58      386.1          0.14250   \n",
       "4        20.29         14.34          135.10     1297.0          0.10030   \n",
       "\n",
       "   mean compactness  mean concavity  mean concave points  mean symmetry  \\\n",
       "0           0.27760          0.3001              0.14710         0.2419   \n",
       "1           0.07864          0.0869              0.07017         0.1812   \n",
       "2           0.15990          0.1974              0.12790         0.2069   \n",
       "3           0.28390          0.2414              0.10520         0.2597   \n",
       "4           0.13280          0.1980              0.10430         0.1809   \n",
       "\n",
       "   mean fractal dimension  ...  worst texture  worst perimeter  worst area  \\\n",
       "0                 0.07871  ...          17.33           184.60      2019.0   \n",
       "1                 0.05667  ...          23.41           158.80      1956.0   \n",
       "2                 0.05999  ...          25.53           152.50      1709.0   \n",
       "3                 0.09744  ...          26.50            98.87       567.7   \n",
       "4                 0.05883  ...          16.67           152.20      1575.0   \n",
       "\n",
       "   worst smoothness  worst compactness  worst concavity  worst concave points  \\\n",
       "0            0.1622             0.6656           0.7119                0.2654   \n",
       "1            0.1238             0.1866           0.2416                0.1860   \n",
       "2            0.1444             0.4245           0.4504                0.2430   \n",
       "3            0.2098             0.8663           0.6869                0.2575   \n",
       "4            0.1374             0.2050           0.4000                0.1625   \n",
       "\n",
       "   worst symmetry  worst fractal dimension  target  \n",
       "0          0.4601                  0.11890       0  \n",
       "1          0.2750                  0.08902       0  \n",
       "2          0.3613                  0.08758       0  \n",
       "3          0.6638                  0.17300       0  \n",
       "4          0.2364                  0.07678       0  \n",
       "\n",
       "[5 rows x 31 columns]"
      ]
     },
     "metadata": {},
     "output_type": "display_data"
    },
    {
     "name": "stdout",
     "output_type": "stream",
     "text": [
      "Acc train data 1.0\n",
      "Acc test data 0.8557504873294347\n",
      "[0.         0.         0.         0.         0.         0.\n",
      " 0.         0.         0.         0.         0.         0.\n",
      " 0.         0.         0.         0.         0.         0.\n",
      " 0.         0.07130125 0.         0.02275349 0.04991087 0.\n",
      " 0.         0.         0.         0.78752228 0.06851211 0.        ]\n",
      "Most important feature = worst concave points with index:  27\n"
     ]
    }
   ],
   "source": [
    "from sklearn.tree import DecisionTreeClassifier\n",
    "from sklearn.metrics import accuracy_score\n",
    "\n",
    "cancer = datasets.load_breast_cancer(as_frame=True)\n",
    "display(cancer[\"frame\"].head())\n",
    "\n",
    "# train test split\n",
    "X = cancer[\"frame\"].drop(\"target\", axis=1)\n",
    "y = cancer[\"frame\"].target\n",
    "X_train, X_test, y_train, y_test = train_test_split(X, y, test_size=0.9)\n",
    "\n",
    "# make decision tree classifier\n",
    "clf = DecisionTreeClassifier()\n",
    "\n",
    "# train en predict\n",
    "clf.fit(X_train, y_train)\n",
    "y_pred = clf.predict(X_test)\n",
    "\n",
    "# toon score\n",
    "print(\"Acc train data\", clf.score(X_train, y_train))\n",
    "print(\"Acc test data\", clf.score(X_test, y_test))\n",
    "\n",
    "# toon belangrijke features \n",
    "print(clf.feature_importances_)\n",
    "for idx, val in enumerate(clf.feature_importances_):\n",
    "    if val == np.max(clf.feature_importances_):\n",
    "        print(\"Most important feature =\", cancer.data.columns[idx], \"with index: \", idx)"
   ]
  },
  {
   "cell_type": "markdown",
   "id": "01f50aaa",
   "metadata": {},
   "source": [
    "# Random Forests\n",
    "\n",
    "Een andere manier om overfitting van decision trees tegen te gaan en het resultaat accurater te maken is door gebruik te maken van Random Forests.\n",
    "Deze techniek gaat meerdere decision trees trainen en door gebruik van majority voting alle trees laten stemmen over het uiteindelijke resultaat.\n",
    "Buiten het vermijden van problemen door overfitting kan deze techniek ook veel accurater zijn.\n",
    "Algemeen gezien kan men zelfs er van uitgaan dat hoe meer trees er gebruikt worden hoe accurater het forest wordt.\n",
    "\n",
    "Omdat we meerdere bomen gebruiken willen we ook meer variatie in de modellen die deze bomen leren.\n",
    "Daarom wordt elke boom maar op een willekeurig deel van de data getrained (vandaar de term random).\n",
    "\n",
    "Buiten de hyperparameters die voor de decision trees gebruikt kunnen worden zijn er nog een aantal extra zaken die de performantie van het gecombineerde forest sterk kan verbeteren, namelijk:\n",
    "* n_estimators: Het aantal bomen dat gebruikt wordt (Hoe meer bomen hoe accurater maar ook hoe meer rekenkracht)\n",
    "* max_features: Aantal features per boom (int, float, sqrt / auto, log2, default). Hoe meer features, hoe meer kans op overfitting\n",
    "* Bootstrap aggregating of bagging: Dit houdt in dat maar een deel van de observaties gebruikt worden om elke boom te trainen. Zo kan er meer variatie geintroduceerd worden.\n",
    "* oob_score: Out-of-Bag score: Het trainen van een decision tree gebruikt niet alle trainingsdata dus kan je de niet-gebruikte data gebruiken als validatieset voor die boom. Meer informatie vind je [hier](https://towardsdatascience.com/what-is-out-of-bag-oob-score-in-random-forest-a7fa23d710)\n",
    "\n",
    "Waarom zou je een Random Forest Classifier verkiezen boven een classifier gebaseerd op Logistic Regression of SVM?\n",
    "Random forest classifiers hebben de volgende voordelen:\n",
    "* Ze zijn zeer goed in te stellen\n",
    "* Ze vragen niet veel rekenkracht\n",
    "* Hun accuraatheid is gelijk aan dat van SVM of zelfs beter\n",
    "* Het voordeel van decision trees dat er kan geredeneerd worden op welke features belangrijk zijn blijft behouden. \n",
    "\n",
    "Net zoals voor de vorige classifiers kan ook deze techniek gebruikt worden voor regressie.\n",
    "In dit geval moet er gebruik gemaakt worden van het gemiddelde in plaats van majority voting."
   ]
  },
  {
   "cell_type": "code",
   "execution_count": 37,
   "id": "daa7cc31",
   "metadata": {},
   "outputs": [
    {
     "name": "stdout",
     "output_type": "stream",
     "text": [
      "Acc train data 0.9642857142857143\n",
      "Acc test data 0.8226120857699805\n",
      "[0.         0.         0.         0.52492047 0.         0.\n",
      " 0.         0.05533597 0.         0.         0.         0.03154901\n",
      " 0.         0.         0.         0.         0.         0.\n",
      " 0.         0.         0.         0.         0.         0.11492855\n",
      " 0.         0.         0.16786416 0.         0.10540184 0.        ]\n",
      "Most important feature = mean area with index:  3\n"
     ]
    }
   ],
   "source": [
    "from sklearn.ensemble import RandomForestClassifier\n",
    "\n",
    "# create random forest classifier\n",
    "clf = RandomForestClassifier(n_estimators=1)\n",
    "\n",
    "# train en predict\n",
    "clf.fit(X_train, y_train)\n",
    "y_pred = clf.predict(X_test)\n",
    "\n",
    "# score\n",
    "print(\"Acc train data\", clf.score(X_train, y_train))\n",
    "print(\"Acc test data\", clf.score(X_test, y_test))\n",
    "\n",
    "# toon belangrijke features \n",
    "print(clf.feature_importances_)\n",
    "for idx, val in enumerate(clf.feature_importances_):\n",
    "    if val == np.max(clf.feature_importances_):\n",
    "        print(\"Most important feature =\", cancer.data.columns[idx], \"with index: \", idx)"
   ]
  },
  {
   "cell_type": "markdown",
   "id": "9bbc3966",
   "metadata": {},
   "source": [
    "Train nu meerdere random-forest classifiers waar je het aantal estimators laat toenemen (bvb tot 100).\n",
    "Toon een plot met de trainings en test error in functie van het aantal estimators."
   ]
  },
  {
   "cell_type": "code",
   "execution_count": null,
   "id": "8793c98b",
   "metadata": {},
   "outputs": [],
   "source": []
  }
 ],
 "metadata": {
  "kernelspec": {
   "display_name": "Python 3",
   "language": "python",
   "name": "python3"
  },
  "language_info": {
   "codemirror_mode": {
    "name": "ipython",
    "version": 3
   },
   "file_extension": ".py",
   "mimetype": "text/x-python",
   "name": "python",
   "nbconvert_exporter": "python",
   "pygments_lexer": "ipython3",
   "version": "3.8.8"
  }
 },
 "nbformat": 4,
 "nbformat_minor": 5
}
