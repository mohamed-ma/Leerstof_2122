{
 "cells": [
  {
   "cell_type": "markdown",
   "id": "d8266688",
   "metadata": {},
   "source": [
    "# Classificatie - Logistic Regression\n",
    "\n",
    "## Wat is classificatie?\n",
    "\n",
    "Bij regressie wordt er getracht een manier te zoeken om op basis van een aantal inputs/features een continue waarde te voorspellen.\n",
    "Bij classificatie omvat machine learning technieken waar een model getrained wordt dat op basis van de input bepaalt in welke categorieen je input thuishoort.\n",
    "Een model dat een categorie toekent aan een bepaalde set input-data kan ook een **classifier** genoemd worden.\n",
    "Het classificatieprobleem hoort nog steeds thuis onder **supervised learning** omdat er nog steeds gebruikt gemaakt wordt van een output/label/target om het model te trainen.\n",
    "\n",
    "Enkele voorbeelden van classificatieproblemen zijn\n",
    "* Spam detectie\n",
    "* Medische diagnoses\n",
    "* Kwaliteitscontrole\n",
    "* Geschreven tekst inlezen\n",
    "* ...\n",
    "\n",
    "\n",
    "## Types van classifiers\n",
    "\n",
    "Op basis van hoe de data gelabeled wordt kunnen we drie types van classifiers onderscheiden:\n",
    "* Binaire classifier: Er zijn twee verschillende klasses (goedgekeurd of niet, kwaadaardig vs goedaardig, ...). Lijkt simplistisch maar komt heel veel voor.\n",
    "* Multiclass classifier: Er zijn een willekeurig aantal klassen en er kan er maar 1 toegekend worden. Een voorbeeld hiervan is gezichtsherkenning (elk gezicht kan maar bij 1 persoon horen).\n",
    "* Multilabel classifier: Er zijn een willekeurig aantal klassen en 1 input kan tot meerdere klassen behoren, bijvoorbeeld op een foto kan je meerdere zaken herkennen zoals een boom, wolken, gras, struiken, dieren, ...\n",
    "\n",
    "## Kan hier ook lineaire regressie gebruikt worden?\n",
    "\n",
    "Een eerste mogelijkheid om classificatie uit te voeren is om elke klasse een apart getal te geven en dan lineaire regressie uit te voeren.\n",
    "Hierdoor bekomen we een getal en dan kunnen we kijken naar welk cijfer/klasse er het dichts bij licht.\n",
    "De problemen met deze aanpak kunnen het makkelijkst worden toegelicht doorm iddel van een voorbeeld.\n",
    "Doorheen deze notebook gaat er grotendeels gewerkt worden met [deze dataset](https://www.kaggle.com/elakiricoder/gender-classification-dataset) die 7 zaken gemeten heeft in het gezicht van zowel mannen als vrouwen.\n",
    "Deze dataset gaan we gebruiken om op basis van deze metingen te gaan bepalen of de bijhorende persoon een vrouw of man is."
   ]
  },
  {
   "cell_type": "code",
   "execution_count": 1,
   "id": "4ac429f0",
   "metadata": {},
   "outputs": [],
   "source": [
    "# imports\n",
    "import matplotlib.pyplot as plt\n",
    "import pandas as pd\n",
    "import numpy as np\n",
    "import opendatasets as od\n",
    "\n",
    "# graphical\n",
    "from mpl_toolkits.mplot3d import Axes3D\n",
    "from matplotlib import cm\n",
    "from ipywidgets import interact, FloatSlider\n",
    "import matplotlib.animation as animation\n",
    "import seaborn as sns\n",
    "sns.set_style(\"darkgrid\")\n",
    "\n",
    "# sklearn\n",
    "from sklearn.linear_model import LinearRegression\n",
    "from sklearn.linear_model import LogisticRegression\n",
    "from sklearn.metrics import mean_absolute_error\n",
    "from sklearn.metrics import mean_squared_error\n",
    "from sklearn.model_selection import train_test_split\n",
    "from sklearn.preprocessing import StandardScaler\n",
    "from sklearn.preprocessing import PolynomialFeatures\n",
    "\n",
    "from sklearn.multiclass import OneVsOneClassifier\n",
    "from sklearn.multiclass import OneVsRestClassifier\n",
    "\n",
    "%matplotlib inline"
   ]
  },
  {
   "cell_type": "code",
   "execution_count": null,
   "id": "fa7372ce",
   "metadata": {},
   "outputs": [],
   "source": [
    "od.download(\"https://www.kaggle.com/joshmcadams/oranges-vs-grapefruit\")"
   ]
  },
  {
   "cell_type": "code",
   "execution_count": 2,
   "id": "fb04d0fa",
   "metadata": {},
   "outputs": [],
   "source": [
    "df = pd.read_csv(\".\\\\oranges-vs-grapefruit\\\\citrus.csv\")"
   ]
  },
  {
   "cell_type": "code",
   "execution_count": 3,
   "id": "acc76994",
   "metadata": {},
   "outputs": [
    {
     "data": {
      "text/html": [
       "<div>\n",
       "<style scoped>\n",
       "    .dataframe tbody tr th:only-of-type {\n",
       "        vertical-align: middle;\n",
       "    }\n",
       "\n",
       "    .dataframe tbody tr th {\n",
       "        vertical-align: top;\n",
       "    }\n",
       "\n",
       "    .dataframe thead th {\n",
       "        text-align: right;\n",
       "    }\n",
       "</style>\n",
       "<table border=\"1\" class=\"dataframe\">\n",
       "  <thead>\n",
       "    <tr style=\"text-align: right;\">\n",
       "      <th></th>\n",
       "      <th>name</th>\n",
       "      <th>diameter</th>\n",
       "      <th>weight</th>\n",
       "      <th>red</th>\n",
       "      <th>green</th>\n",
       "      <th>blue</th>\n",
       "      <th>output</th>\n",
       "    </tr>\n",
       "  </thead>\n",
       "  <tbody>\n",
       "    <tr>\n",
       "      <th>0</th>\n",
       "      <td>orange</td>\n",
       "      <td>2.96</td>\n",
       "      <td>86.76</td>\n",
       "      <td>172</td>\n",
       "      <td>85</td>\n",
       "      <td>2</td>\n",
       "      <td>True</td>\n",
       "    </tr>\n",
       "    <tr>\n",
       "      <th>1</th>\n",
       "      <td>orange</td>\n",
       "      <td>3.91</td>\n",
       "      <td>88.05</td>\n",
       "      <td>166</td>\n",
       "      <td>78</td>\n",
       "      <td>3</td>\n",
       "      <td>True</td>\n",
       "    </tr>\n",
       "    <tr>\n",
       "      <th>2</th>\n",
       "      <td>orange</td>\n",
       "      <td>4.42</td>\n",
       "      <td>95.17</td>\n",
       "      <td>156</td>\n",
       "      <td>81</td>\n",
       "      <td>2</td>\n",
       "      <td>True</td>\n",
       "    </tr>\n",
       "    <tr>\n",
       "      <th>3</th>\n",
       "      <td>orange</td>\n",
       "      <td>4.47</td>\n",
       "      <td>95.60</td>\n",
       "      <td>163</td>\n",
       "      <td>81</td>\n",
       "      <td>4</td>\n",
       "      <td>True</td>\n",
       "    </tr>\n",
       "    <tr>\n",
       "      <th>4</th>\n",
       "      <td>orange</td>\n",
       "      <td>4.48</td>\n",
       "      <td>95.76</td>\n",
       "      <td>161</td>\n",
       "      <td>72</td>\n",
       "      <td>9</td>\n",
       "      <td>True</td>\n",
       "    </tr>\n",
       "    <tr>\n",
       "      <th>...</th>\n",
       "      <td>...</td>\n",
       "      <td>...</td>\n",
       "      <td>...</td>\n",
       "      <td>...</td>\n",
       "      <td>...</td>\n",
       "      <td>...</td>\n",
       "      <td>...</td>\n",
       "    </tr>\n",
       "    <tr>\n",
       "      <th>9995</th>\n",
       "      <td>grapefruit</td>\n",
       "      <td>15.35</td>\n",
       "      <td>253.89</td>\n",
       "      <td>149</td>\n",
       "      <td>77</td>\n",
       "      <td>20</td>\n",
       "      <td>False</td>\n",
       "    </tr>\n",
       "    <tr>\n",
       "      <th>9996</th>\n",
       "      <td>grapefruit</td>\n",
       "      <td>15.41</td>\n",
       "      <td>254.67</td>\n",
       "      <td>148</td>\n",
       "      <td>68</td>\n",
       "      <td>7</td>\n",
       "      <td>False</td>\n",
       "    </tr>\n",
       "    <tr>\n",
       "      <th>9997</th>\n",
       "      <td>grapefruit</td>\n",
       "      <td>15.59</td>\n",
       "      <td>256.50</td>\n",
       "      <td>168</td>\n",
       "      <td>82</td>\n",
       "      <td>20</td>\n",
       "      <td>False</td>\n",
       "    </tr>\n",
       "    <tr>\n",
       "      <th>9998</th>\n",
       "      <td>grapefruit</td>\n",
       "      <td>15.92</td>\n",
       "      <td>260.14</td>\n",
       "      <td>142</td>\n",
       "      <td>72</td>\n",
       "      <td>11</td>\n",
       "      <td>False</td>\n",
       "    </tr>\n",
       "    <tr>\n",
       "      <th>9999</th>\n",
       "      <td>grapefruit</td>\n",
       "      <td>16.45</td>\n",
       "      <td>261.51</td>\n",
       "      <td>152</td>\n",
       "      <td>74</td>\n",
       "      <td>2</td>\n",
       "      <td>False</td>\n",
       "    </tr>\n",
       "  </tbody>\n",
       "</table>\n",
       "<p>10000 rows × 7 columns</p>\n",
       "</div>"
      ],
      "text/plain": [
       "            name  diameter  weight  red  green  blue  output\n",
       "0         orange      2.96   86.76  172     85     2    True\n",
       "1         orange      3.91   88.05  166     78     3    True\n",
       "2         orange      4.42   95.17  156     81     2    True\n",
       "3         orange      4.47   95.60  163     81     4    True\n",
       "4         orange      4.48   95.76  161     72     9    True\n",
       "...          ...       ...     ...  ...    ...   ...     ...\n",
       "9995  grapefruit     15.35  253.89  149     77    20   False\n",
       "9996  grapefruit     15.41  254.67  148     68     7   False\n",
       "9997  grapefruit     15.59  256.50  168     82    20   False\n",
       "9998  grapefruit     15.92  260.14  142     72    11   False\n",
       "9999  grapefruit     16.45  261.51  152     74     2   False\n",
       "\n",
       "[10000 rows x 7 columns]"
      ]
     },
     "execution_count": 3,
     "metadata": {},
     "output_type": "execute_result"
    }
   ],
   "source": [
    "df[\"output\"] = df.name == \"orange\"\n",
    "df"
   ]
  },
  {
   "cell_type": "markdown",
   "id": "abdc0693",
   "metadata": {},
   "source": [
    "Waneer we nu een scatterplot tekenen van een kleine datasample en lineaire regressie zouden laten uitvoeren bekomen we onderstaand resultaat.\n",
    "Voor classificatie zouden we beslissen dat wanneer het minder is dan de helft, dat het dan een orange is en anders pompelmoes."
   ]
  },
  {
   "cell_type": "code",
   "execution_count": 5,
   "id": "913584cc",
   "metadata": {},
   "outputs": [
    {
     "data": {
      "text/plain": [
       "[<matplotlib.lines.Line2D at 0x1f90a961d60>]"
      ]
     },
     "execution_count": 5,
     "metadata": {},
     "output_type": "execute_result"
    },
    {
     "data": {
      "image/png": "[encoded data removed]",
      "text/plain": [
       "<Figure size 432x288 with 1 Axes>"
      ]
     },
     "metadata": {
      "needs_background": "light"
     },
     "output_type": "display_data"
    }
   ],
   "source": [
    "def split(group):\n",
    "    s = group.sort_values(\"weight\")\n",
    "    if group.name == \"orange\":\n",
    "        return s.head()\n",
    "    return s.tail()\n",
    "df_trimmed = df.groupby([\"name\"]).apply(split)\n",
    "\n",
    "model = LinearRegression()\n",
    "model.fit(pd.DataFrame(df_trimmed.diameter), df_trimmed.output)\n",
    "x_test = [4, 16]\n",
    "y_test = model.predict(pd.DataFrame(x_test))\n",
    "\n",
    "sns.scatterplot(x = 'diameter', y ='output', data=df_trimmed, hue='output')\n",
    "plt.plot(x_test, y_test)"
   ]
  },
  {
   "cell_type": "markdown",
   "id": "17820979",
   "metadata": {},
   "source": [
    "Met deze plot zou je kunnen denken dat lineaire regressie kan gebruikt worden.\n",
    "Daarom hebben we eens een andere groep ook geplot en daar zie je dat er toch een aantal problemen zijn met lineaire regressie te gebruiken voor classificatie.\n",
    "* Outliers hebben een grote impact op de trendlijn en dus op de manier dat de classificatie gebeurd\n",
    "* Als de ene klas 0 is en de andere 1, dan kunnen we waarden voorspellen die kleiner zijn dan 0 en groter dan 1. Dit komt niet overeen met kansen dus is het lastiger om te interpreteren. \n",
    "* Als de klassen niet gebalanceerd zijn kan het zijn dat er een grotere bias is voor de ene klassen. Dit wordt ook hieronder. aangetoond.\n",
    "\n",
    "De combinatie van deze problemen zorgt ervoor dat lineaire regressie zelden een goede oplossing is voor classificatieproblemen.\n",
    "Gelukkig bevat het domein van classificatie een hele hoop machine learning technieken die beter bestand zijn tegen deze problemen.\n",
    "In de loop van de cursus gaan we er een aantal van bestuderen, namelijk:\n",
    "* Logistic Regression\n",
    "* SVM\n",
    "* Naive Bayes\n",
    "* Decision Trees\n",
    "* Random Forest"
   ]
  },
  {
   "cell_type": "code",
   "execution_count": 6,
   "id": "b595b787",
   "metadata": {},
   "outputs": [
    {
     "data": {
      "text/plain": [
       "[<matplotlib.lines.Line2D at 0x1f90a9d3f70>]"
      ]
     },
     "execution_count": 6,
     "metadata": {},
     "output_type": "execute_result"
    },
    {
     "data": {
      "image/png": "[encoded data removed]",
      "text/plain": [
       "<Figure size 432x288 with 1 Axes>"
      ]
     },
     "metadata": {
      "needs_background": "light"
     },
     "output_type": "display_data"
    }
   ],
   "source": [
    "def split_outlier(group):\n",
    "    s = group.sort_values(\"weight\")\n",
    "    if group.name == \"orange\":\n",
    "        return s.head()\n",
    "    return pd.concat([s.tail(1), s[-1000:-995]])\n",
    "df_trimmed = df.groupby([\"name\"]).apply(split_outlier)\n",
    "\n",
    "model = LinearRegression()\n",
    "model.fit(pd.DataFrame(df_trimmed.diameter), df_trimmed.output)\n",
    "x_test = [4, 16]\n",
    "y_test = model.predict(pd.DataFrame(x_test))\n",
    "\n",
    "sns.scatterplot(x = 'diameter', y ='output', data=df_trimmed, hue='output')\n",
    "plt.plot(x_test, y_test)"
   ]
  },
  {
   "cell_type": "code",
   "execution_count": null,
   "id": "ac877895",
   "metadata": {},
   "outputs": [],
   "source": [
    "def split_inbalanced(group):\n",
    "    s = group.sort_values(\"weight\")\n",
    "    if group.name == \"orange\":\n",
    "        return s.head()\n",
    "    return s.tail(2000)\n",
    "df_trimmed = df.groupby([\"name\"]).apply(split_inbalanced)\n",
    "\n",
    "model = LinearRegression()\n",
    "model.fit(pd.DataFrame(df_trimmed.diameter), df_trimmed.output)\n",
    "x_test = [4, 16]\n",
    "y_test = model.predict(pd.DataFrame(x_test))\n",
    "\n",
    "sns.scatterplot(x = 'diameter', y ='output', data=df_trimmed, hue='output')\n",
    "plt.plot(x_test, y_test)"
   ]
  },
  {
   "cell_type": "markdown",
   "id": "30eecfa9",
   "metadata": {},
   "source": [
    "## Logistic Regression\n",
    "\n",
    "De eerste classificatietechniek die aan bod komt is logistic regression.\n",
    "De naam is wat ongelukkig omdat het verkeerdelijk aangeeft dat het gebruikt wordt voor regressie maar eigenlijk geeft het aan dat een aanpassing is van lineaire regressie om het classificatieprobleem aan te pakken.\n",
    "Deze techniek is een **binaire classifier**.\n",
    "\n",
    "Net zoals bij lineaire regressie gaan we opnieuw een reeks features van een aantal observaties gebruiken om een bepaalde output te genereren.\n",
    "Het verschil is dat we nu niet streven naar een continue waarde correct te voorspellen maar het model moet 1 geven als de observatie tot de klasse hoort en anders 0.\n",
    "Het resultaat van het model gaat een continue getal tussen 0 en 1 zijn dat de kans weergeeft dat de observatie tot de klasse hoort. \n",
    "\n",
    "In principe is de keuze van functie vrij zolang dat het bereik van deze functie tussen 0 en 1 blijft maar bij logistic regression wordt er gekozen voor de logistische functie (vandaar de naam). Deze is gedefinieerd als:\n",
    "\n",
    "$f(z) = \\frac{1}{1+e^{-z}}$\n",
    "\n",
    "en ziet er uit als volgt:"
   ]
  },
  {
   "cell_type": "code",
   "execution_count": 7,
   "id": "65ceb3f3",
   "metadata": {},
   "outputs": [
    {
     "data": {
      "text/plain": [
       "[<matplotlib.lines.Line2D at 0x1f90a9a3880>]"
      ]
     },
     "execution_count": 7,
     "metadata": {},
     "output_type": "execute_result"
    },
    {
     "data": {
      "image/png": "[encoded data removed]",
      "text/plain": [
       "<Figure size 432x288 with 1 Axes>"
      ]
     },
     "metadata": {
      "needs_background": "light"
     },
     "output_type": "display_data"
    }
   ],
   "source": [
    "x = np.linspace(-10, 10, 1000)\n",
    "y = 1 / (1+np.exp(-x))\n",
    "plt.plot(x,y)"
   ]
  },
  {
   "cell_type": "markdown",
   "id": "004a1692",
   "metadata": {},
   "source": [
    "Om deze te gebruiken in het model gaan we in plaats van z een lineaire combinatie maken van de gewichten en de inputs (net zoals de functie bij lineaire regressie). De uiteindelijke notatie is:\n",
    "\n",
    "$f_{\\boldsymbol{w}}(x) = \\frac{1}{1+e^{-\\boldsymbol{w}^Tx}}$\n",
    "\n",
    "In deze notatie stelt x de featurevector voor en $\\boldsymbol{w}$ de gewichtenvector. De transpose van de ene vector is nodig om de ze kunnen vergelijken. Deze vermenigvuldingen van matrices is gelijk aan de functie die we trachten te voorspellen bij lineaire regressie, namelijk:\n",
    "\n",
    "$\\boldsymbol{w}^Tx = w_0 + w_1x_1 + w_2x_2 + ... + w_Nx_N$\n",
    "\n",
    "### Grafische interpretatie\n",
    "\n",
    "Indien we twee features bekijken in een scatterplot, dan zoekt logistische regressie naar de beste rechte/curve die de verdeelt zodat zoveel mogelijk observaties van de klassen langs dezelfde kant van de curve liggen. Bijvoorbeeld:"
   ]
  },
  {
   "cell_type": "code",
   "execution_count": 8,
   "id": "7546e466",
   "metadata": {},
   "outputs": [
    {
     "data": {
      "text/plain": [
       "<AxesSubplot:xlabel='diameter', ylabel='blue'>"
      ]
     },
     "execution_count": 8,
     "metadata": {},
     "output_type": "execute_result"
    },
    {
     "data": {
      "image/png": "[encoded data removed]",
      "text/plain": [
       "<Figure size 432x288 with 1 Axes>"
      ]
     },
     "metadata": {
      "needs_background": "light"
     },
     "output_type": "display_data"
    }
   ],
   "source": [
    "def split_linear(group):\n",
    "    if group.name == \"orange\":\n",
    "        s = group[group.blue > (12.5*group.diameter-100)]\n",
    "        return s.sample(10)\n",
    "    s = group[group.blue < (12.5*group.diameter-100)]\n",
    "    return s.sample(10)\n",
    "df_trimmed = df.groupby([\"name\"]).apply(split_linear)\n",
    "\n",
    "model = LogisticRegression()\n",
    "model.fit(pd.DataFrame(df_trimmed.diameter), df_trimmed.output)\n",
    "\n",
    "sns.scatterplot(x = 'diameter', y ='blue', data=df_trimmed, hue='name')"
   ]
  },
  {
   "cell_type": "markdown",
   "id": "335c4cd1",
   "metadata": {},
   "source": [
    "Het tweede deel na het opstellen hoe de predicties gemaakt worden is het definieren van de kostenfunctie.\n",
    "Deze functie gaan we proberen te minimaliseren. Omdat we nu geen continue waarde als output en de functie logistische kunnen we niet meer gebruik maken van de LMS-functie van lineaire regressie. \n",
    "Daarom maken we gebruik van onderstaande kostenfunctie:\n",
    "\n",
    "$L(\\boldsymbol{w}) = \\begin{cases}\n",
    "  -ln(f_{\\boldsymbol{w}}(x)) & \\text{als }y=1\\\\    \n",
    "  -ln(1-f_{\\boldsymbol{w}}(x)) & \\text{als }y=0\n",
    "\\end{cases}$\n",
    "\n",
    "$L(\\boldsymbol{w}) = -\\frac{1}{N}\\Bigg[\\sum\\limits_{i=1}^{N}\n",
    "y_i ln(f_{\\boldsymbol{w}}(x_i))\n",
    "+ (1-y_i) ln(1-f_{\\boldsymbol{w}}(x_i))\n",
    "\\Bigg]$\n",
    "\n",
    "De kostfunctie van een label dat y=1 had ziet er uit als volgt:"
   ]
  },
  {
   "cell_type": "code",
   "execution_count": 9,
   "id": "175f093f",
   "metadata": {},
   "outputs": [
    {
     "name": "stderr",
     "output_type": "stream",
     "text": [
      "<ipython-input-9-1ed193853ed5>:2: RuntimeWarning: divide by zero encountered in log\n",
      "  plt.plot(x, -np.log(x))\n"
     ]
    },
    {
     "data": {
      "text/plain": [
       "[<matplotlib.lines.Line2D at 0x1f90aadd970>]"
      ]
     },
     "execution_count": 9,
     "metadata": {},
     "output_type": "execute_result"
    },
    {
     "data": {
      "image/png": "[encoded data removed]",
      "text/plain": [
       "<Figure size 432x288 with 1 Axes>"
      ]
     },
     "metadata": {
      "needs_background": "light"
     },
     "output_type": "display_data"
    }
   ],
   "source": [
    "x = np.arange(0, 1, 0.01)\n",
    "plt.plot(x, -np.log(x))"
   ]
  },
  {
   "cell_type": "markdown",
   "id": "2e2f02f4",
   "metadata": {},
   "source": [
    "De optimalisatie hiervan kan terug gebeuren door middel van Gradient Descent.\n",
    "\n",
    "### Meervoudige classificatie\n",
    "\n",
    "Bovestaande figuur omvat onmiddelijk meervoudige classificatie (gebruik van meerdere features) omdat er zowel een feature op de x-as en y-as staat.\n",
    "Het uitvoeren van logistische regressie heeft dan het volgende resultaat:"
   ]
  },
  {
   "cell_type": "code",
   "execution_count": 10,
   "id": "922ba8a5",
   "metadata": {},
   "outputs": [
    {
     "data": {
      "text/plain": [
       "<matplotlib.contour.QuadContourSet at 0x1f90da00a30>"
      ]
     },
     "execution_count": 10,
     "metadata": {},
     "output_type": "execute_result"
    },
    {
     "data": {
      "image/png": "[encoded data removed]",
      "text/plain": [
       "<Figure size 432x288 with 1 Axes>"
      ]
     },
     "metadata": {
      "needs_background": "light"
     },
     "output_type": "display_data"
    }
   ],
   "source": [
    "model = LogisticRegression(C=1e5) # C= inverse regularisatiesterkte\n",
    "model.fit(df_trimmed[[\"diameter\", \"blue\"]], df_trimmed.output)\n",
    "\n",
    "# all points in the plot\n",
    "step = 0.01\n",
    "x_min = df_trimmed.diameter.min()-2\n",
    "x_max = df_trimmed.diameter.max()+2\n",
    "y_min = df_trimmed.blue.min()-2\n",
    "y_max = df_trimmed.blue.max()+2\n",
    "xx, yy = np.meshgrid(np.arange(x_min, x_max, step),np.arange(y_min, y_max, step))\n",
    "\n",
    "# make prediction for all points\n",
    "predicts = model.predict(np.c_[xx.ravel(), yy.ravel()])\n",
    "predicts = predicts.reshape(xx.shape)\n",
    "\n",
    "sns.scatterplot(x = 'diameter', y ='blue', data=df_trimmed, hue='name')\n",
    "# find dividing boundary\n",
    "plt.contour(xx, yy, predicts, colors='green')   "
   ]
  },
  {
   "cell_type": "markdown",
   "id": "24d77c6f",
   "metadata": {},
   "source": [
    "### Hogere orde features \n",
    "\n",
    "Net zoals bij lineaire regressie is het niet steeds mogelijk om een rechte te gebruiken om een goede splitsen van de klassen te bekomen.\n",
    "Denk bijvoorbeeld aan kwaliteitscontroles waar de breedte en lengte van een component aan bepaalde tolerantiewaarden moet voldoen. \n",
    "Wanneer je een scatterplot maakt van de goede en slechte componenten dan bekom je typisch een cirkel of ovaal uit om de classificatie uit te voeren, een voorbeeld zie je hieronder:"
   ]
  },
  {
   "cell_type": "code",
   "execution_count": 11,
   "id": "68cc396f",
   "metadata": {},
   "outputs": [
    {
     "data": {
      "text/plain": [
       "<matplotlib.contour.QuadContourSet at 0x1f90f1e0f70>"
      ]
     },
     "execution_count": 11,
     "metadata": {},
     "output_type": "execute_result"
    },
    {
     "data": {
      "image/png": "[encoded data removed]",
      "text/plain": [
       "<Figure size 432x288 with 1 Axes>"
      ]
     },
     "metadata": {
      "needs_background": "light"
     },
     "output_type": "display_data"
    }
   ],
   "source": [
    "def split_circle(group):\n",
    "    if group.name == \"orange\":\n",
    "        s = group[(group.blue-8)**2 + (group.diameter -8)**2 > 16]\n",
    "        return s.sample(100)\n",
    "    s = group[(group.blue-8)**2 + (group.diameter -8)**2 < 16]\n",
    "    return s.sample(10)\n",
    "df_trimmed = df.groupby([\"name\"]).apply(split_circle)\n",
    "\n",
    "model = LogisticRegression(C=1e5) # C= inverse regularisatiesterkte\n",
    "model.fit(df_trimmed[[\"diameter\", \"blue\"]], df_trimmed.output)\n",
    "\n",
    "# all points in the plot\n",
    "step = 0.01\n",
    "x_min = df_trimmed.diameter.min()-2\n",
    "x_max = df_trimmed.diameter.max()+2\n",
    "y_min = df_trimmed.blue.min()-2\n",
    "y_max = df_trimmed.blue.max()+2\n",
    "xx, yy = np.meshgrid(np.arange(x_min, x_max, step),np.arange(y_min, y_max, step))\n",
    "\n",
    "# make prediction for all points\n",
    "predicts = model.predict(np.c_[xx.ravel(), yy.ravel()])\n",
    "predicts = predicts.reshape(xx.shape)\n",
    "\n",
    "sns.scatterplot(x = 'diameter', y ='blue', data=df_trimmed, hue='name')\n",
    "# find dividing boundary\n",
    "plt.contour(xx, yy, predicts, colors='green')   "
   ]
  },
  {
   "cell_type": "markdown",
   "id": "8a422bba",
   "metadata": {},
   "source": [
    "Het is duidelijk op bovenstaande figuur dat de classificatie met een rechte niet kan gebeuren. \n",
    "De oplossing hiervoor is om hogere orde features toe te voegen (net zoals bij lineaire regressie).\n",
    "Omdat er hier gefilterd is op een cirkel, is er genoeg met tweede-orde features. \n",
    "Dit geeft het volgende resulaat:"
   ]
  },
  {
   "cell_type": "code",
   "execution_count": null,
   "id": "dc4becf8",
   "metadata": {},
   "outputs": [],
   "source": [
    "def split_circle(group):\n",
    "    if group.name == \"orange\":\n",
    "        s = group[(group.blue-8)**2 + (group.diameter -6)**2 > 16]\n",
    "        return s.sample(1000)\n",
    "    s = group[(group.blue-8)**2 + (group.diameter -6)**2 < 16]\n",
    "    return s\n",
    "df_trimmed = df.groupby([\"name\"]).apply(split_circle)\n",
    "\n",
    "graad = 2\n",
    "poly = PolynomialFeatures(graad)\n",
    "X = poly.fit_transform(df_trimmed[[\"diameter\", \"blue\"]])\n",
    "\n",
    "model = LogisticRegression(C=1000000000000) # C= inverse regularisatiesterkte\n",
    "model.fit(X, df_trimmed.output)\n",
    "\n",
    "# all points in the plot\n",
    "step = 0.01\n",
    "x_min = df_trimmed.diameter.min()-2\n",
    "x_max = df_trimmed.diameter.max()+2\n",
    "y_min = df_trimmed.blue.min()-2\n",
    "y_max = df_trimmed.blue.max()+2\n",
    "xx, yy = np.meshgrid(np.arange(x_min, x_max, step),np.arange(y_min, y_max, step))\n",
    "\n",
    "# higher orders for all points\n",
    "xx_higher = np.hstack((xx.reshape(-1,1),yy.reshape(-1,1)))\n",
    "xx_higher = poly.fit_transform(xx_higher)\n",
    "\n",
    "# make prediction for all points\n",
    "predicts = model.predict(xx_higher)\n",
    "predicts = predicts.reshape(xx.shape)\n",
    "\n",
    "sns.scatterplot(x = 'diameter', y ='blue', data=df_trimmed, hue='name')\n",
    "# find dividing boundary\n",
    "plt.contour(xx, yy, predicts, colors='green')   "
   ]
  },
  {
   "cell_type": "markdown",
   "id": "2c15a4f0",
   "metadata": {},
   "source": [
    "Net zoals bij lineaire regressie, kan het gebruiken van hogere orde-features tot niet gewenste resultaat leiden.\n",
    "Hiervoor moet er opnieuw regressie toegevoegd worden.\n",
    "Dit kan door middel van de C-parameter in de constructor van het model mee te geven.\n",
    "Deze parameter geeft de toegelaten complexiteit van de classifier weer.\n",
    "Deze parameter is het inverse van de $\\alpha$ bij Ridge en Lasso Regression:\n",
    "* Een hoge C-waarde doet hetzelfde als een lage $\\alpha$ waarde en zorgt voor weinig regularisatie.\n",
    "* Een lage C-waarde doet hetzelfde als een hoge $\\alpha$ waarde en zorgt voor een sterke regularisatie."
   ]
  },
  {
   "cell_type": "code",
   "execution_count": null,
   "id": "11f1c0f3",
   "metadata": {},
   "outputs": [],
   "source": [
    "def split_third_order(group):\n",
    "    x = group.diameter\n",
    "    if group.name == \"orange\":\n",
    "        s = group[group.blue > (12.5*group.diameter-100)]\n",
    "        return s.sample(10)\n",
    "    s = group[group.blue < (12.5*group.diameter-100)]\n",
    "    return s.sample(10)\n",
    "df_trimmed = df.groupby([\"name\"]).apply(split_third_order)\n",
    "\n",
    "\n",
    "graad = 8\n",
    "poly = PolynomialFeatures(graad)\n",
    "X = poly.fit_transform(df_trimmed[[\"diameter\", \"blue\"]])\n",
    "\n",
    "model = LogisticRegression(C=10) # C= inverse regularisatiesterkte\n",
    "model.fit(X, df_trimmed.output)\n",
    "\n",
    "# all points in the plot\n",
    "step = 0.01\n",
    "x_min = df_trimmed.diameter.min()-2\n",
    "x_max = df_trimmed.diameter.max()+2\n",
    "y_min = df_trimmed.blue.min()-2\n",
    "y_max = df_trimmed.blue.max()+2\n",
    "xx, yy = np.meshgrid(np.arange(x_min, x_max, step),np.arange(y_min, y_max, step))\n",
    "\n",
    "# higher orders for all points\n",
    "xx_higher = np.hstack((xx.reshape(-1,1),yy.reshape(-1,1)))\n",
    "xx_higher = poly.fit_transform(xx_higher)\n",
    "\n",
    "# make prediction for all points\n",
    "predicts = model.predict(xx_higher)\n",
    "predicts = predicts.reshape(xx.shape)\n",
    "\n",
    "sns.scatterplot(x = 'diameter', y ='blue', data=df_trimmed, hue='name')\n",
    "# find dividing boundary\n",
    "plt.contour(xx, yy, predicts, colors='green')   "
   ]
  },
  {
   "cell_type": "code",
   "execution_count": null,
   "id": "87f6d560",
   "metadata": {},
   "outputs": [],
   "source": [
    "# let hier op - volgorde is belangrijk anders wordt de colormesh boven de scatterplot getekend\n",
    "plt.pcolormesh(xx, yy, predicts, cmap=\"Accent\")\n",
    "sns.scatterplot(x = 'diameter', y ='blue', data=df_trimmed, hue='name')"
   ]
  },
  {
   "cell_type": "markdown",
   "id": "2f73b227",
   "metadata": {},
   "source": [
    "## Evaluatie van classificatie\n",
    "\n",
    "In tegenstelling tot lineaire regressie kunnen we niet de afstand tot de gewenste output gebruiken om verschillende classifiers te gaan evalueren.\n",
    "Een mogelijkheid die kan werken is om te kijken naar het percentage van inputs die correct geklassificieerd zijn.\n",
    "Dit wordt ook de accuraatheid of accuracy genoemd.\n",
    "Enkel deze metriek gebruiken heeft echter problemen bij het classificieren van zeldzame events of niet-gebalanceerde data.\n",
    "Een classifier zou bijvoorbeeld voor iets dat in maar 1 van de 1000 gevallen voorkomt kunnen voorspellen dat het nooit voorkomt maar toch een accuraatheid bekomen van 99,9%.\n",
    "\n",
    "Om dit op te vangen kan de zogenoemde [confusionmatrix](https://towardsdatascience.com/confusion-matrix-for-your-multi-class-machine-learning-model-ff9aa3bf7826) bepaald worden.\n",
    "Hierin wordt bijgehouden voor elke klasse hoeveel voorspellingen er correct waren en hoeveel niet.\n",
    "Op basis van deze matrix kunnen de volgende metrieken berekend worden:\n",
    "* Accuraatheid: algemene correctheid $\\frac{TP+TN}{TP+TN+FP+FN}$\n",
    "* Precisie: Accuraatheid binnen positieve testen $\\frac{TP}{TP+FN}$\n",
    "* Specificiteit: Accuraatheid binnen negatieve samples $\\frac{TN}{TN+FP}$\n",
    "* Recall: Accuraatheid binnen positieve samples $\\frac{TP}{TP+FN}$\n",
    "* F1-score: Combinatie Precisie en Recall: $2\\frac{Precisie*Recall}{Precisie+Recall} = \\frac{2TP}{2TP+FP+FN}$\n",
    "\n",
    "De [.score](https://scikit-learn.org/stable/modules/generated/sklearn.linear_model.LogisticRegression.html#sklearn.linear_model.LogisticRegression.score) functie van het LogisticRegression model berekend de accuraatheid van het model maar de andere metrieken kunnen een veel nauwkeuriger beeld geven over de correcte werken van het model.\n",
    "\n",
    "![matrix](images/confusionMatrix.png)"
   ]
  },
  {
   "cell_type": "markdown",
   "id": "f4c8209e",
   "metadata": {},
   "source": [
    "## Multi-class classification\n",
    "\n",
    "In het bovenstaande voorbeeld zijn de training examples onderverdeeld in twee klassen.\n",
    "In de praktijk komt het ook vaak voor dat er meerdere klasses mogelijk zijn, zoals meerdere types fruit, meerdere soorten hondenrassen, ...\n",
    "Om dit aan te pakken zijn er twee veelgebruikte technieken: One vs All en One vs One.\n",
    "Meer informatie over hoe de LogisticRegression van sklearn kan gebruikt worden voor multi-class problemen op te lossen vind je [hier](https://scikit-learn.org/stable/modules/generated/sklearn.linear_model.LogisticRegression.html).\n",
    "Dan gaat het specifiek om het multi-class probleem.\n",
    "\n",
    "### One vs All\n",
    "\n",
    "Bij deze techniek maak 1 classifier per klasse die je hebt.\n",
    "Deze classifier bepaalt of een input van die bepaalde klasse is of niet.\n",
    "Met deze techniek worden er dus N classifiers getrained.\n",
    "Het voordeel hiervan is dat er minder classifiers nodig zijn dan in de One-Vs-One-techniek waardoor het sneller te trainen is.\n",
    "Het nadeel echter is dat de techniek gevoeliger is aan niet-gebalanceerde data.\n",
    "Deze techniek wordt ook vaak One-Vs-The-Rest genoemd.\n",
    "\n",
    "Een opmerking bij techniek is dat het mogelijk is dat twee of meerdere classifiers aangeven dat een input tot die klasse hoort.\n",
    "In het geval dat er een dergelijk conflict opduikt wordt de klasse die de hoogste kans aangeeft gekozen. \n",
    "\n",
    "![onevsall](images/oneVsAll.png)\n",
    "\n",
    "### One vs One\n",
    "\n",
    "Bij deze techniek maken we een classifier aan voor elke combinatie van 2 klassen aan. \n",
    "Hierdoor zijn er $\\frac{N(N-1)}{2}$ classifiers nodig wat snel kan oplopen in vergelijking met de voorgaande techniek.\n",
    "Op basis van onderstaand voorbeeld werkt deze techniek als volgt:\n",
    "* Eerst wordt er gekeken of de input van de rode of de blauwe klasse is. \n",
    "* Indien het niet van de rode is, wordt er nog gekeken of het blauw of groen is.\n",
    "* Indien het niet de blauwe klasse is, wordt er nog gekeken of het rood of groen is.\n",
    "\n",
    "Hoewel deze methode een grotere trainingstijd nodig heeft door het toegenomen aantal classifiers zijn er wel een aantal voorbeelden:\n",
    "* Minder gevoelig voor niet gebalanceerde data\n",
    "* Geen wazige gebieden waar meerdere classifiers kunnen voorspellen dat het van die klasse is.\n",
    "\n",
    "![onevsall](images/oneVsOne.png)"
   ]
  },
  {
   "cell_type": "code",
   "execution_count": null,
   "id": "1884706c",
   "metadata": {},
   "outputs": [],
   "source": []
  },
  {
   "cell_type": "markdown",
   "id": "cc7fd150",
   "metadata": {},
   "source": [
    "### Multiclass evaluatie\n",
    "\n",
    "De confusion matrix in het geval van meerdere klassen kan uitgebreid worden naar onderstaand voorbeeld voor drie klassen. \n",
    "\n",
    "![matrix](images/confusionMatrixMulti.png)\n",
    "\n",
    "Hier is het niet rechtstreeks zichtbaar wat de True Positive, True Negative, ... waarden zijn.\n",
    "We kunnen deze echter eenvoudig berekenen per klasse. \n",
    "Dan kunnen we de besproken metrieken ook per klasse berekenen zodat we onderstaande resultaten bekomen.\n",
    "\n",
    "![matrix](images/metriekenMulti.png)\n",
    "\n",
    "Met behulp van deze matrix kunnen verschillende modellen vergeleken worden.\n",
    "Echter kan er nog iets verder gegaan worden in het combineren van waarden door een globale F1-score te bepalen.\n",
    "Hier zijn meerdere opties voor, namelijk:\n",
    "* Micro F1: Globale F1 op basis van total TP, FN en FP. Merk op dat door geen onderscheid te maken tussen klassen dat $Micro F1 = Precisie = Recall = Accuraatheid$\n",
    "* Macro F1: (Niet gewogen) Gemiddelde van alle F1-scores per klasse.\n",
    "* Weighted F1: Gewogen gemiddelde van de F1-scores per klasse (gewichten = aantal samples van die klasse)\n",
    "\n",
    "## Voorbeeld\n",
    "\n",
    "Gebruik nu [deze dataset](https://www.kaggle.com/c/titanic/overview) om onderstaande vragen op te lossen:\n",
    "* Maak een model om op basis van de kolommen te voorspellen of een bepaalde passagier de tocht op de titanic zou overleven\n",
    "* Bereken voor dit model de accuraatheid, specificiteit, recall, precisie en F1-score. \n",
    "* Probeer hogere-orde features te gebruiken om deze waarden te verhogen\n",
    "* Maak een scatter plot voor de leeftijd vs hoeveel er betaald was voor het ticket. Geef ook aan welke datapunten de ramp overleefd hebben en welke niet.\n",
    "* Duid op deze plot de scheidingslijn tussen overleving en niet overleving aan voor het beste gevonden model.\n",
    "* Maak nu een one-vs-all en one-vs-one classifier aan om de klasse van een persoon te voorspellen op basis van de andere gegevens. Gebruik hiervoor niet de testset omdat hier geen data voor beschikbaar is in de testset maar splits je trainingsset op in twee delen.\n",
    "* Schrijf nu een functie om de confusion matrix en de metrieken per klasse en de gecombineerde F1-scores te bepalen. Zoek naar het beste model.\n",
    "* Welke hyperparameters heb je gebruikt tijdens het zoeken naar het model? Hoeveel parameters heeft je uiteindelijkem model?"
   ]
  },
  {
   "cell_type": "code",
   "execution_count": null,
   "id": "6ff707ad",
   "metadata": {},
   "outputs": [],
   "source": []
  }
 ],
 "metadata": {
  "kernelspec": {
   "display_name": "Python 3",
   "language": "python",
   "name": "python3"
  },
  "language_info": {
   "codemirror_mode": {
    "name": "ipython",
    "version": 3
   },
   "file_extension": ".py",
   "mimetype": "text/x-python",
   "name": "python",
   "nbconvert_exporter": "python",
   "pygments_lexer": "ipython3",
   "version": "3.8.8"
  }
 },
 "nbformat": 4,
 "nbformat_minor": 5
}
